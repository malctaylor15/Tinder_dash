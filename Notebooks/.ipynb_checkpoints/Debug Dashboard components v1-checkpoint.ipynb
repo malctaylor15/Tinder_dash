{
 "cells": [
  {
   "cell_type": "code",
   "execution_count": 1,
   "metadata": {},
   "outputs": [],
   "source": [
    "import pandas as pd \n",
    "import json \n",
    "import os \n",
    "import sys"
   ]
  },
  {
   "cell_type": "code",
   "execution_count": 2,
   "metadata": {},
   "outputs": [
    {
     "data": {
      "text/plain": [
       "'/home/owner/Documents/Github_projects/Tinder_dash_demo'"
      ]
     },
     "execution_count": 2,
     "metadata": {},
     "output_type": "execute_result"
    }
   ],
   "source": [
    "os.path.abspath('..')"
   ]
  },
  {
   "cell_type": "code",
   "execution_count": 3,
   "metadata": {},
   "outputs": [],
   "source": [
    "sys.path.append(os.path.abspath('..'))"
   ]
  },
  {
   "cell_type": "code",
   "execution_count": 4,
   "metadata": {},
   "outputs": [],
   "source": [
    "from Scripts import message_df_fx as msg_fx\n",
    "from Scripts import usage_analysis_fx as usage\n"
   ]
  },
  {
   "cell_type": "code",
   "execution_count": 5,
   "metadata": {},
   "outputs": [],
   "source": [
    "with open('../Data/data.json') as hnd:\n",
    "    data = json.load(hnd)"
   ]
  },
  {
   "cell_type": "code",
   "execution_count": 6,
   "metadata": {},
   "outputs": [],
   "source": [
    "list_of_dfs = [msg_fx.get_msg_df(msg_dict) for msg_dict in data[\"Messages\"]]\n",
    "all_msg_df = pd.concat(list_of_dfs, axis=0, sort=True)\n",
    "all_msg_df.reset_index(inplace=True)\n",
    "# all_msg_df['date'] = all_msg_df['sent_date'].dt.date\n",
    "\n",
    "usage_df = pd.DataFrame(data[\"Usage\"])\n",
    "# usage_df.index = pd.to_datetime(usage_df.index)\n",
    "usage_df['total_swipes'] = usage_df['swipes_likes'] + usage_df['swipes_passes']\n",
    "msg_df_string = all_msg_df.to_json(date_format='iso', orient='split')\n"
   ]
  },
  {
   "cell_type": "code",
   "execution_count": 7,
   "metadata": {},
   "outputs": [
    {
     "data": {
      "text/plain": [
       "str"
      ]
     },
     "execution_count": 7,
     "metadata": {},
     "output_type": "execute_result"
    }
   ],
   "source": [
    "type(msg_df_string)"
   ]
  },
  {
   "cell_type": "code",
   "execution_count": 8,
   "metadata": {},
   "outputs": [],
   "source": [
    "d1 = pd.read_json(msg_df_string, orient='split')"
   ]
  },
  {
   "cell_type": "code",
   "execution_count": 9,
   "metadata": {},
   "outputs": [
    {
     "data": {
      "text/html": [
       "<div>\n",
       "<style scoped>\n",
       "    .dataframe tbody tr th:only-of-type {\n",
       "        vertical-align: middle;\n",
       "    }\n",
       "\n",
       "    .dataframe tbody tr th {\n",
       "        vertical-align: top;\n",
       "    }\n",
       "\n",
       "    .dataframe thead th {\n",
       "        text-align: right;\n",
       "    }\n",
       "</style>\n",
       "<table border=\"1\" class=\"dataframe\">\n",
       "  <thead>\n",
       "    <tr style=\"text-align: right;\">\n",
       "      <th></th>\n",
       "      <th>match_id</th>\n",
       "      <th>msg_number</th>\n",
       "      <th>exclamation_mark_in_msg</th>\n",
       "      <th>explicit_word_in_msg</th>\n",
       "      <th>fixed_height</th>\n",
       "      <th>from</th>\n",
       "      <th>funny_word_in_msg</th>\n",
       "      <th>message</th>\n",
       "      <th>n_words_in_msg</th>\n",
       "      <th>question_mark_in_msg</th>\n",
       "      <th>question_word_in_msg</th>\n",
       "      <th>sent_date</th>\n",
       "      <th>time_since_last_2_msgs</th>\n",
       "      <th>time_since_last_msg</th>\n",
       "      <th>to</th>\n",
       "      <th>type</th>\n",
       "    </tr>\n",
       "  </thead>\n",
       "  <tbody>\n",
       "    <tr>\n",
       "      <th>0</th>\n",
       "      <td>Match 169</td>\n",
       "      <td>0</td>\n",
       "      <td>1.0</td>\n",
       "      <td>0.0</td>\n",
       "      <td>None</td>\n",
       "      <td>You</td>\n",
       "      <td>0.0</td>\n",
       "      <td>Rose!! 🌹 I get it</td>\n",
       "      <td>5.0</td>\n",
       "      <td>0.0</td>\n",
       "      <td>0.0</td>\n",
       "      <td>2018-11-29T06:43:33.000Z</td>\n",
       "      <td>None</td>\n",
       "      <td>None</td>\n",
       "      <td>5bda0f045c67bcb02727e8c3</td>\n",
       "      <td>None</td>\n",
       "    </tr>\n",
       "    <tr>\n",
       "      <th>1</th>\n",
       "      <td>Match 168</td>\n",
       "      <td>0</td>\n",
       "      <td>0.0</td>\n",
       "      <td>0.0</td>\n",
       "      <td>https://media0.giphy.com/media/6wpHEQNjkd74Q/2...</td>\n",
       "      <td>You</td>\n",
       "      <td>0.0</td>\n",
       "      <td>https://media0.giphy.com/media/6wpHEQNjkd74Q/g...</td>\n",
       "      <td>1.0</td>\n",
       "      <td>1.0</td>\n",
       "      <td>0.0</td>\n",
       "      <td>2018-11-21T01:18:37.000Z</td>\n",
       "      <td>None</td>\n",
       "      <td>None</td>\n",
       "      <td>5bdc7209e53ebed626ea4a03</td>\n",
       "      <td>gif</td>\n",
       "    </tr>\n",
       "    <tr>\n",
       "      <th>2</th>\n",
       "      <td>Match 168</td>\n",
       "      <td>1</td>\n",
       "      <td>1.0</td>\n",
       "      <td>0.0</td>\n",
       "      <td>None</td>\n",
       "      <td>You</td>\n",
       "      <td>1.0</td>\n",
       "      <td>Hahaha that was fantastic!</td>\n",
       "      <td>4.0</td>\n",
       "      <td>0.0</td>\n",
       "      <td>0.0</td>\n",
       "      <td>2018-11-21T01:18:55.000Z</td>\n",
       "      <td>None</td>\n",
       "      <td>1970-01-01T00:00:18.000Z</td>\n",
       "      <td>5bdc7209e53ebed626ea4a03</td>\n",
       "      <td>None</td>\n",
       "    </tr>\n",
       "    <tr>\n",
       "      <th>3</th>\n",
       "      <td>Match 168</td>\n",
       "      <td>2</td>\n",
       "      <td>0.0</td>\n",
       "      <td>0.0</td>\n",
       "      <td>None</td>\n",
       "      <td>You</td>\n",
       "      <td>0.0</td>\n",
       "      <td>Also can you be the phosphorus and i have the ...</td>\n",
       "      <td>14.0</td>\n",
       "      <td>0.0</td>\n",
       "      <td>0.0</td>\n",
       "      <td>2018-11-21T01:19:30.000Z</td>\n",
       "      <td>1970-01-01T00:00:53.000Z</td>\n",
       "      <td>1970-01-01T00:00:35.000Z</td>\n",
       "      <td>5bdc7209e53ebed626ea4a03</td>\n",
       "      <td>None</td>\n",
       "    </tr>\n",
       "    <tr>\n",
       "      <th>4</th>\n",
       "      <td>Match 168</td>\n",
       "      <td>3</td>\n",
       "      <td>0.0</td>\n",
       "      <td>0.0</td>\n",
       "      <td>None</td>\n",
       "      <td>You</td>\n",
       "      <td>0.0</td>\n",
       "      <td>Big sticks don’t impress you?</td>\n",
       "      <td>5.0</td>\n",
       "      <td>1.0</td>\n",
       "      <td>0.0</td>\n",
       "      <td>2018-11-21T01:27:49.000Z</td>\n",
       "      <td>1970-01-01T00:08:54.000Z</td>\n",
       "      <td>1970-01-01T00:08:19.000Z</td>\n",
       "      <td>5bdc7209e53ebed626ea4a03</td>\n",
       "      <td>None</td>\n",
       "    </tr>\n",
       "  </tbody>\n",
       "</table>\n",
       "</div>"
      ],
      "text/plain": [
       "    match_id  msg_number  exclamation_mark_in_msg  explicit_word_in_msg  \\\n",
       "0  Match 169           0                      1.0                   0.0   \n",
       "1  Match 168           0                      0.0                   0.0   \n",
       "2  Match 168           1                      1.0                   0.0   \n",
       "3  Match 168           2                      0.0                   0.0   \n",
       "4  Match 168           3                      0.0                   0.0   \n",
       "\n",
       "                                        fixed_height from  funny_word_in_msg  \\\n",
       "0                                               None  You                0.0   \n",
       "1  https://media0.giphy.com/media/6wpHEQNjkd74Q/2...  You                0.0   \n",
       "2                                               None  You                1.0   \n",
       "3                                               None  You                0.0   \n",
       "4                                               None  You                0.0   \n",
       "\n",
       "                                             message  n_words_in_msg  \\\n",
       "0                                  Rose!! 🌹 I get it             5.0   \n",
       "1  https://media0.giphy.com/media/6wpHEQNjkd74Q/g...             1.0   \n",
       "2                         Hahaha that was fantastic!             4.0   \n",
       "3  Also can you be the phosphorus and i have the ...            14.0   \n",
       "4                      Big sticks don’t impress you?             5.0   \n",
       "\n",
       "   question_mark_in_msg  question_word_in_msg                 sent_date  \\\n",
       "0                   0.0                   0.0  2018-11-29T06:43:33.000Z   \n",
       "1                   1.0                   0.0  2018-11-21T01:18:37.000Z   \n",
       "2                   0.0                   0.0  2018-11-21T01:18:55.000Z   \n",
       "3                   0.0                   0.0  2018-11-21T01:19:30.000Z   \n",
       "4                   1.0                   0.0  2018-11-21T01:27:49.000Z   \n",
       "\n",
       "     time_since_last_2_msgs       time_since_last_msg  \\\n",
       "0                      None                      None   \n",
       "1                      None                      None   \n",
       "2                      None  1970-01-01T00:00:18.000Z   \n",
       "3  1970-01-01T00:00:53.000Z  1970-01-01T00:00:35.000Z   \n",
       "4  1970-01-01T00:08:54.000Z  1970-01-01T00:08:19.000Z   \n",
       "\n",
       "                         to  type  \n",
       "0  5bda0f045c67bcb02727e8c3  None  \n",
       "1  5bdc7209e53ebed626ea4a03   gif  \n",
       "2  5bdc7209e53ebed626ea4a03  None  \n",
       "3  5bdc7209e53ebed626ea4a03  None  \n",
       "4  5bdc7209e53ebed626ea4a03  None  "
      ]
     },
     "execution_count": 9,
     "metadata": {},
     "output_type": "execute_result"
    }
   ],
   "source": [
    "d1.head()"
   ]
  },
  {
   "cell_type": "code",
   "execution_count": 10,
   "metadata": {},
   "outputs": [],
   "source": [
    "d1.set_index(['match_id', 'msg_number'], inplace=True)"
   ]
  },
  {
   "cell_type": "code",
   "execution_count": 11,
   "metadata": {},
   "outputs": [
    {
     "data": {
      "text/html": [
       "<div>\n",
       "<style scoped>\n",
       "    .dataframe tbody tr th:only-of-type {\n",
       "        vertical-align: middle;\n",
       "    }\n",
       "\n",
       "    .dataframe tbody tr th {\n",
       "        vertical-align: top;\n",
       "    }\n",
       "\n",
       "    .dataframe thead th {\n",
       "        text-align: right;\n",
       "    }\n",
       "</style>\n",
       "<table border=\"1\" class=\"dataframe\">\n",
       "  <thead>\n",
       "    <tr style=\"text-align: right;\">\n",
       "      <th></th>\n",
       "      <th></th>\n",
       "      <th>exclamation_mark_in_msg</th>\n",
       "      <th>explicit_word_in_msg</th>\n",
       "      <th>fixed_height</th>\n",
       "      <th>from</th>\n",
       "      <th>funny_word_in_msg</th>\n",
       "      <th>message</th>\n",
       "      <th>n_words_in_msg</th>\n",
       "      <th>question_mark_in_msg</th>\n",
       "      <th>question_word_in_msg</th>\n",
       "      <th>sent_date</th>\n",
       "      <th>time_since_last_2_msgs</th>\n",
       "      <th>time_since_last_msg</th>\n",
       "      <th>to</th>\n",
       "      <th>type</th>\n",
       "    </tr>\n",
       "    <tr>\n",
       "      <th>match_id</th>\n",
       "      <th>msg_number</th>\n",
       "      <th></th>\n",
       "      <th></th>\n",
       "      <th></th>\n",
       "      <th></th>\n",
       "      <th></th>\n",
       "      <th></th>\n",
       "      <th></th>\n",
       "      <th></th>\n",
       "      <th></th>\n",
       "      <th></th>\n",
       "      <th></th>\n",
       "      <th></th>\n",
       "      <th></th>\n",
       "      <th></th>\n",
       "    </tr>\n",
       "  </thead>\n",
       "  <tbody>\n",
       "    <tr>\n",
       "      <th>Match 169</th>\n",
       "      <th>0</th>\n",
       "      <td>1.0</td>\n",
       "      <td>0.0</td>\n",
       "      <td>None</td>\n",
       "      <td>You</td>\n",
       "      <td>0.0</td>\n",
       "      <td>Rose!! 🌹 I get it</td>\n",
       "      <td>5.0</td>\n",
       "      <td>0.0</td>\n",
       "      <td>0.0</td>\n",
       "      <td>2018-11-29T06:43:33.000Z</td>\n",
       "      <td>None</td>\n",
       "      <td>None</td>\n",
       "      <td>5bda0f045c67bcb02727e8c3</td>\n",
       "      <td>None</td>\n",
       "    </tr>\n",
       "    <tr>\n",
       "      <th rowspan=\"4\" valign=\"top\">Match 168</th>\n",
       "      <th>0</th>\n",
       "      <td>0.0</td>\n",
       "      <td>0.0</td>\n",
       "      <td>https://media0.giphy.com/media/6wpHEQNjkd74Q/2...</td>\n",
       "      <td>You</td>\n",
       "      <td>0.0</td>\n",
       "      <td>https://media0.giphy.com/media/6wpHEQNjkd74Q/g...</td>\n",
       "      <td>1.0</td>\n",
       "      <td>1.0</td>\n",
       "      <td>0.0</td>\n",
       "      <td>2018-11-21T01:18:37.000Z</td>\n",
       "      <td>None</td>\n",
       "      <td>None</td>\n",
       "      <td>5bdc7209e53ebed626ea4a03</td>\n",
       "      <td>gif</td>\n",
       "    </tr>\n",
       "    <tr>\n",
       "      <th>1</th>\n",
       "      <td>1.0</td>\n",
       "      <td>0.0</td>\n",
       "      <td>None</td>\n",
       "      <td>You</td>\n",
       "      <td>1.0</td>\n",
       "      <td>Hahaha that was fantastic!</td>\n",
       "      <td>4.0</td>\n",
       "      <td>0.0</td>\n",
       "      <td>0.0</td>\n",
       "      <td>2018-11-21T01:18:55.000Z</td>\n",
       "      <td>None</td>\n",
       "      <td>1970-01-01T00:00:18.000Z</td>\n",
       "      <td>5bdc7209e53ebed626ea4a03</td>\n",
       "      <td>None</td>\n",
       "    </tr>\n",
       "    <tr>\n",
       "      <th>2</th>\n",
       "      <td>0.0</td>\n",
       "      <td>0.0</td>\n",
       "      <td>None</td>\n",
       "      <td>You</td>\n",
       "      <td>0.0</td>\n",
       "      <td>Also can you be the phosphorus and i have the ...</td>\n",
       "      <td>14.0</td>\n",
       "      <td>0.0</td>\n",
       "      <td>0.0</td>\n",
       "      <td>2018-11-21T01:19:30.000Z</td>\n",
       "      <td>1970-01-01T00:00:53.000Z</td>\n",
       "      <td>1970-01-01T00:00:35.000Z</td>\n",
       "      <td>5bdc7209e53ebed626ea4a03</td>\n",
       "      <td>None</td>\n",
       "    </tr>\n",
       "    <tr>\n",
       "      <th>3</th>\n",
       "      <td>0.0</td>\n",
       "      <td>0.0</td>\n",
       "      <td>None</td>\n",
       "      <td>You</td>\n",
       "      <td>0.0</td>\n",
       "      <td>Big sticks don’t impress you?</td>\n",
       "      <td>5.0</td>\n",
       "      <td>1.0</td>\n",
       "      <td>0.0</td>\n",
       "      <td>2018-11-21T01:27:49.000Z</td>\n",
       "      <td>1970-01-01T00:08:54.000Z</td>\n",
       "      <td>1970-01-01T00:08:19.000Z</td>\n",
       "      <td>5bdc7209e53ebed626ea4a03</td>\n",
       "      <td>None</td>\n",
       "    </tr>\n",
       "  </tbody>\n",
       "</table>\n",
       "</div>"
      ],
      "text/plain": [
       "                      exclamation_mark_in_msg  explicit_word_in_msg  \\\n",
       "match_id  msg_number                                                  \n",
       "Match 169 0                               1.0                   0.0   \n",
       "Match 168 0                               0.0                   0.0   \n",
       "          1                               1.0                   0.0   \n",
       "          2                               0.0                   0.0   \n",
       "          3                               0.0                   0.0   \n",
       "\n",
       "                                                           fixed_height from  \\\n",
       "match_id  msg_number                                                           \n",
       "Match 169 0                                                        None  You   \n",
       "Match 168 0           https://media0.giphy.com/media/6wpHEQNjkd74Q/2...  You   \n",
       "          1                                                        None  You   \n",
       "          2                                                        None  You   \n",
       "          3                                                        None  You   \n",
       "\n",
       "                      funny_word_in_msg  \\\n",
       "match_id  msg_number                      \n",
       "Match 169 0                         0.0   \n",
       "Match 168 0                         0.0   \n",
       "          1                         1.0   \n",
       "          2                         0.0   \n",
       "          3                         0.0   \n",
       "\n",
       "                                                                message  \\\n",
       "match_id  msg_number                                                      \n",
       "Match 169 0                                           Rose!! 🌹 I get it   \n",
       "Match 168 0           https://media0.giphy.com/media/6wpHEQNjkd74Q/g...   \n",
       "          1                                  Hahaha that was fantastic!   \n",
       "          2           Also can you be the phosphorus and i have the ...   \n",
       "          3                               Big sticks don’t impress you?   \n",
       "\n",
       "                      n_words_in_msg  question_mark_in_msg  \\\n",
       "match_id  msg_number                                         \n",
       "Match 169 0                      5.0                   0.0   \n",
       "Match 168 0                      1.0                   1.0   \n",
       "          1                      4.0                   0.0   \n",
       "          2                     14.0                   0.0   \n",
       "          3                      5.0                   1.0   \n",
       "\n",
       "                      question_word_in_msg                 sent_date  \\\n",
       "match_id  msg_number                                                   \n",
       "Match 169 0                            0.0  2018-11-29T06:43:33.000Z   \n",
       "Match 168 0                            0.0  2018-11-21T01:18:37.000Z   \n",
       "          1                            0.0  2018-11-21T01:18:55.000Z   \n",
       "          2                            0.0  2018-11-21T01:19:30.000Z   \n",
       "          3                            0.0  2018-11-21T01:27:49.000Z   \n",
       "\n",
       "                        time_since_last_2_msgs       time_since_last_msg  \\\n",
       "match_id  msg_number                                                       \n",
       "Match 169 0                               None                      None   \n",
       "Match 168 0                               None                      None   \n",
       "          1                               None  1970-01-01T00:00:18.000Z   \n",
       "          2           1970-01-01T00:00:53.000Z  1970-01-01T00:00:35.000Z   \n",
       "          3           1970-01-01T00:08:54.000Z  1970-01-01T00:08:19.000Z   \n",
       "\n",
       "                                            to  type  \n",
       "match_id  msg_number                                  \n",
       "Match 169 0           5bda0f045c67bcb02727e8c3  None  \n",
       "Match 168 0           5bdc7209e53ebed626ea4a03   gif  \n",
       "          1           5bdc7209e53ebed626ea4a03  None  \n",
       "          2           5bdc7209e53ebed626ea4a03  None  \n",
       "          3           5bdc7209e53ebed626ea4a03  None  "
      ]
     },
     "execution_count": 11,
     "metadata": {},
     "output_type": "execute_result"
    }
   ],
   "source": [
    "d1.head()"
   ]
  },
  {
   "cell_type": "code",
   "execution_count": null,
   "metadata": {},
   "outputs": [],
   "source": []
  },
  {
   "cell_type": "code",
   "execution_count": 12,
   "metadata": {},
   "outputs": [
    {
     "data": {
      "text/plain": [
       "'{\"columns\":[\"match_id\",\"msg_number\",\"exclamation_mark_in_msg\",\"explicit_word_in_msg\",\"fixed_height\",\"from\",\"funny_word_in_msg\",\"message\",\"n_words_in_msg\",\"question_mark_in_msg\",\"question_word_in_msg\",\"sent_date\",\"time_since_last_2_msgs\",\"time_since_last_msg\",\"to\",\"type\"],\"index\":[0,1,2,3,4,5,6,7,8,9,10,11,12,13,14,15,16,17,18,19,20,21,22,23,24,25,26,27,28,29,30,31,32,33,34,35,36,37,38,39,40,41,42,43,44,45,46,47,48,49,50,51,52,53,54,55,56,57,58,59,60,61,62,63,64,65,66,67,68,69,70,71,72,73,74,75,76,77,78,79,80,81,82,83,84,85,86,87,88,89,90,91,92,93,94,95,96,97,98,99,100,101,102,103,104,105,106,107,108,109,110,111,112,113,114,115,116,117,118,119,120,121,122,123,124,125,126,127,128,129,130,131,132,133,134,135,136,137,138,139,140,141,142,143,144,145,146,147,148,149,150,151,152,153,154,155,156,157,158,159,160,161,162,163,164,165,166,167,168,169,170,171,172,173,174,175,176,177,178,179,180,181,182,183,184,185,186,187,188,189,190,191,192,193,194,195,196,197,198,199,200,201,202,203,204,205,206,2'"
      ]
     },
     "execution_count": 12,
     "metadata": {},
     "output_type": "execute_result"
    }
   ],
   "source": [
    "msg_df_string[:1000]"
   ]
  },
  {
   "cell_type": "markdown",
   "metadata": {},
   "source": [
    "## Json object not string Error"
   ]
  },
  {
   "cell_type": "code",
   "execution_count": 17,
   "metadata": {},
   "outputs": [],
   "source": [
    "d2 = data['Usage']"
   ]
  },
  {
   "cell_type": "code",
   "execution_count": 18,
   "metadata": {},
   "outputs": [
    {
     "data": {
      "text/plain": [
       "dict"
      ]
     },
     "execution_count": 18,
     "metadata": {},
     "output_type": "execute_result"
    }
   ],
   "source": [
    "type(d2)"
   ]
  },
  {
   "cell_type": "code",
   "execution_count": 19,
   "metadata": {},
   "outputs": [],
   "source": [
    "temp_json = json.dumps(d2)"
   ]
  },
  {
   "cell_type": "code",
   "execution_count": 20,
   "metadata": {},
   "outputs": [
    {
     "data": {
      "text/plain": [
       "str"
      ]
     },
     "execution_count": 20,
     "metadata": {},
     "output_type": "execute_result"
    }
   ],
   "source": [
    "type(temp_json)"
   ]
  },
  {
   "cell_type": "code",
   "execution_count": 24,
   "metadata": {},
   "outputs": [],
   "source": [
    "d4 = json.loads(temp_json)"
   ]
  },
  {
   "cell_type": "code",
   "execution_count": 27,
   "metadata": {},
   "outputs": [],
   "source": [
    "d3 = pd.DataFrame(d4)"
   ]
  },
  {
   "cell_type": "code",
   "execution_count": null,
   "metadata": {},
   "outputs": [],
   "source": []
  }
 ],
 "metadata": {
  "kernelspec": {
   "display_name": "Python 3",
   "language": "python",
   "name": "python3"
  },
  "language_info": {
   "codemirror_mode": {
    "name": "ipython",
    "version": 3
   },
   "file_extension": ".py",
   "mimetype": "text/x-python",
   "name": "python",
   "nbconvert_exporter": "python",
   "pygments_lexer": "ipython3",
   "version": "3.6.7"
  },
  "toc": {
   "base_numbering": 1,
   "nav_menu": {},
   "number_sections": true,
   "sideBar": true,
   "skip_h1_title": false,
   "title_cell": "Table of Contents",
   "title_sidebar": "Contents",
   "toc_cell": false,
   "toc_position": {},
   "toc_section_display": true,
   "toc_window_display": false
  }
 },
 "nbformat": 4,
 "nbformat_minor": 2
}
